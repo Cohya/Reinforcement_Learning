{
  "nbformat": 4,
  "nbformat_minor": 0,
  "metadata": {
    "colab": {
      "name": "Reinforce(PG).ipynb",
      "provenance": [],
      "authorship_tag": "ABX9TyNkB1CBHjctEu4LdUmu8ZPu",
      "include_colab_link": true
    },
    "kernelspec": {
      "name": "python3",
      "display_name": "Python 3"
    },
    "accelerator": "GPU"
  },
  "cells": [
    {
      "cell_type": "markdown",
      "metadata": {
        "id": "view-in-github",
        "colab_type": "text"
      },
      "source": [
        "<a href=\"https://colab.research.google.com/github/abhisheksuran/Reinforcement_Learning/blob/master/Reinforce(PG)_reuploaded.ipynb\" target=\"_parent\"><img src=\"https://colab.research.google.com/assets/colab-badge.svg\" alt=\"Open In Colab\"/></a>"
      ]
    },
    {
      "cell_type": "code",
      "metadata": {
        "id": "X4MItonz_m4v"
      },
      "source": [
        "import tensorflow as tf\n",
        "import numpy as np\n",
        "import gym "
      ],
      "execution_count": null,
      "outputs": []
    },
    {
      "cell_type": "code",
      "metadata": {
        "id": "K6aztX9C_971",
        "colab": {
          "base_uri": "https://localhost:8080/",
          "height": 102
        },
        "outputId": "55a3642c-1dfe-4f95-8f3c-52819656c1ec"
      },
      "source": [
        "!pip3 install box2d-py"
      ],
      "execution_count": null,
      "outputs": [
        {
          "output_type": "stream",
          "text": [
            "Collecting box2d-py\n",
            "\u001b[?25l  Downloading https://files.pythonhosted.org/packages/06/bd/6cdc3fd994b0649dcf5d9bad85bd9e26172308bbe9a421bfc6fdbf5081a6/box2d_py-2.3.8-cp36-cp36m-manylinux1_x86_64.whl (448kB)\n",
            "\r\u001b[K     |▊                               | 10kB 17.3MB/s eta 0:00:01\r\u001b[K     |█▌                              | 20kB 1.8MB/s eta 0:00:01\r\u001b[K     |██▏                             | 30kB 2.2MB/s eta 0:00:01\r\u001b[K     |███                             | 40kB 2.5MB/s eta 0:00:01\r\u001b[K     |███▋                            | 51kB 2.0MB/s eta 0:00:01\r\u001b[K     |████▍                           | 61kB 2.3MB/s eta 0:00:01\r\u001b[K     |█████▏                          | 71kB 2.5MB/s eta 0:00:01\r\u001b[K     |█████▉                          | 81kB 2.8MB/s eta 0:00:01\r\u001b[K     |██████▋                         | 92kB 2.9MB/s eta 0:00:01\r\u001b[K     |███████▎                        | 102kB 2.8MB/s eta 0:00:01\r\u001b[K     |████████                        | 112kB 2.8MB/s eta 0:00:01\r\u001b[K     |████████▊                       | 122kB 2.8MB/s eta 0:00:01\r\u001b[K     |█████████▌                      | 133kB 2.8MB/s eta 0:00:01\r\u001b[K     |██████████▎                     | 143kB 2.8MB/s eta 0:00:01\r\u001b[K     |███████████                     | 153kB 2.8MB/s eta 0:00:01\r\u001b[K     |███████████▊                    | 163kB 2.8MB/s eta 0:00:01\r\u001b[K     |████████████▍                   | 174kB 2.8MB/s eta 0:00:01\r\u001b[K     |█████████████▏                  | 184kB 2.8MB/s eta 0:00:01\r\u001b[K     |█████████████▉                  | 194kB 2.8MB/s eta 0:00:01\r\u001b[K     |██████████████▋                 | 204kB 2.8MB/s eta 0:00:01\r\u001b[K     |███████████████▍                | 215kB 2.8MB/s eta 0:00:01\r\u001b[K     |████████████████                | 225kB 2.8MB/s eta 0:00:01\r\u001b[K     |████████████████▉               | 235kB 2.8MB/s eta 0:00:01\r\u001b[K     |█████████████████▌              | 245kB 2.8MB/s eta 0:00:01\r\u001b[K     |██████████████████▎             | 256kB 2.8MB/s eta 0:00:01\r\u001b[K     |███████████████████             | 266kB 2.8MB/s eta 0:00:01\r\u001b[K     |███████████████████▊            | 276kB 2.8MB/s eta 0:00:01\r\u001b[K     |████████████████████▌           | 286kB 2.8MB/s eta 0:00:01\r\u001b[K     |█████████████████████▏          | 296kB 2.8MB/s eta 0:00:01\r\u001b[K     |██████████████████████          | 307kB 2.8MB/s eta 0:00:01\r\u001b[K     |██████████████████████▋         | 317kB 2.8MB/s eta 0:00:01\r\u001b[K     |███████████████████████▍        | 327kB 2.8MB/s eta 0:00:01\r\u001b[K     |████████████████████████        | 337kB 2.8MB/s eta 0:00:01\r\u001b[K     |████████████████████████▉       | 348kB 2.8MB/s eta 0:00:01\r\u001b[K     |█████████████████████████▋      | 358kB 2.8MB/s eta 0:00:01\r\u001b[K     |██████████████████████████▎     | 368kB 2.8MB/s eta 0:00:01\r\u001b[K     |███████████████████████████     | 378kB 2.8MB/s eta 0:00:01\r\u001b[K     |███████████████████████████▊    | 389kB 2.8MB/s eta 0:00:01\r\u001b[K     |████████████████████████████▌   | 399kB 2.8MB/s eta 0:00:01\r\u001b[K     |█████████████████████████████▏  | 409kB 2.8MB/s eta 0:00:01\r\u001b[K     |██████████████████████████████  | 419kB 2.8MB/s eta 0:00:01\r\u001b[K     |██████████████████████████████▊ | 430kB 2.8MB/s eta 0:00:01\r\u001b[K     |███████████████████████████████▍| 440kB 2.8MB/s eta 0:00:01\r\u001b[K     |████████████████████████████████| 450kB 2.8MB/s \n",
            "\u001b[?25hInstalling collected packages: box2d-py\n",
            "Successfully installed box2d-py-2.3.8\n"
          ],
          "name": "stdout"
        }
      ]
    },
    {
      "cell_type": "code",
      "metadata": {
        "id": "_5s9sW69ADMq"
      },
      "source": [
        "env= gym.make(\"LunarLander-v2\")\n",
        "low = env.observation_space.low\n",
        "high = env.observation_space.high"
      ],
      "execution_count": null,
      "outputs": []
    },
    {
      "cell_type": "code",
      "metadata": {
        "id": "vLNZ-W7PAGTk"
      },
      "source": [
        "class model(tf.keras.Model):\n",
        "  def __init__(self):\n",
        "    super().__init__()\n",
        "    self.d1 = tf.keras.layers.Dense(64,activation='relu')\n",
        "    self.d2 = tf.keras.layers.Dense(64,activation='relu')\n",
        "    self.out = tf.keras.layers.Dense(4,activation='softmax')\n",
        "\n",
        "  def call(self, input_data):\n",
        "    x = tf.convert_to_tensor(input_data)\n",
        "    x = self.d1(x)\n",
        "    x = self.d2(x)\n",
        "    x = self.out(x)\n",
        "    return x\n",
        "\n",
        "  def action_value(self, state):\n",
        "        p = self.predict(state)\n",
        "        return p\n"
      ],
      "execution_count": null,
      "outputs": []
    },
    {
      "cell_type": "code",
      "metadata": {
        "id": "nomUzLqtBAS2"
      },
      "source": [
        "class agent():\n",
        "  def __init__(self):\n",
        "    self.net = model()\n",
        "    opt = tf.keras.optimizers.Adam(learning_rate=0.001)\n",
        "    self.net.compile(optimizer=opt, loss='categorical_crossentropy')\n",
        "    self.gamma = 1\n",
        "\n",
        "  def act(self,state):\n",
        "    action = np.random.choice([i for i in range(env.action_space.n)], 1, p=self.net.action_value(np.array([state]))[0])\n",
        "    \n",
        "    return action[0]\n",
        "\n",
        "  def train(self, states, rewards):\n",
        "    sum_reward = 0\n",
        "    discnt_rewards = []\n",
        "    rewards.reverse()\n",
        "    for r in rewards:\n",
        "      sum_reward = r + self.gamma*sum_reward\n",
        "      discnt_rewards.append(sum_reward)\n",
        "    discnt_rewards.reverse()  \n",
        "    discnt_rewards = np.array(discnt_rewards)\n",
        "    discnt_rewards -= np.mean(discnt_rewards)\n",
        "    discnt_rewards /= np.std(discnt_rewards)\n",
        "    #states  = np.array(states)\n",
        "    states = np.vstack(states)\n",
        "    print(states.shape)\n",
        "    self.net.train_on_batch(states, discnt_rewards)\n",
        "    \n",
        "\n"
      ],
      "execution_count": null,
      "outputs": []
    },
    {
      "cell_type": "code",
      "metadata": {
        "id": "8wivvqbMQgQQ"
      },
      "source": [
        "agentoo7 = agent()\n",
        "steps = 10000\n",
        "for s in range(steps):\n",
        "  \n",
        "  done = False\n",
        "  state = env.reset()\n",
        "  total_reward = 0\n",
        "  rewards = []\n",
        "  states = []\n",
        "  while not done:\n",
        "    #env.render()\n",
        "    action = agentoo7.act(state)\n",
        "    #print(action)\n",
        "    next_state, reward, done, _ = env.step(action)\n",
        "    rewards.append(reward)\n",
        "    states.append(state)\n",
        "    state = next_state\n",
        "    total_reward += reward\n",
        "    \n",
        "    if done:\n",
        "      agentoo7.train(states, rewards)\n",
        "      #print(\"total step for this episord are {}\".format(t))\n",
        "      print(\"total reward after {} steps is {}\".format(s, total_reward))"
      ],
      "execution_count": null,
      "outputs": []
    },
    {
      "cell_type": "code",
      "metadata": {
        "id": "ANqbwJY9Rn5k"
      },
      "source": [
        ""
      ],
      "execution_count": null,
      "outputs": []
    }
  ]
}